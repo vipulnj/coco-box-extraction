{
 "metadata": {
  "language_info": {
   "codemirror_mode": {
    "name": "ipython",
    "version": 3
   },
   "file_extension": ".py",
   "mimetype": "text/x-python",
   "name": "python",
   "nbconvert_exporter": "python",
   "pygments_lexer": "ipython3",
   "version": "3.6.9"
  },
  "orig_nbformat": 4,
  "kernelspec": {
   "name": "python3",
   "display_name": "Python 3.8.5 64-bit"
  },
  "interpreter": {
   "hash": "31f2aee4e71d21fbe5cf8b01ff0e069b9275f58929596ceb00d14d90e3e16cd6"
  }
 },
 "nbformat": 4,
 "nbformat_minor": 2,
 "cells": [
  {
   "cell_type": "code",
   "execution_count": 1,
   "metadata": {},
   "outputs": [],
   "source": [
    "import json\n",
    "from pprint import pprint"
   ]
  },
  {
   "cell_type": "code",
   "execution_count": 2,
   "metadata": {},
   "outputs": [],
   "source": [
    "with open('annotations/instances_val2014.json', 'r') as fh:\n",
    "    valdata = json.load(fh)"
   ]
  },
  {
   "cell_type": "code",
   "execution_count": 3,
   "metadata": {},
   "outputs": [
    {
     "output_type": "execute_result",
     "data": {
      "text/plain": [
       "dict_keys(['info', 'images', 'licenses', 'annotations', 'categories'])"
      ]
     },
     "metadata": {},
     "execution_count": 3
    }
   ],
   "source": [
    "valdata.keys()"
   ]
  },
  {
   "cell_type": "code",
   "execution_count": 4,
   "metadata": {},
   "outputs": [
    {
     "output_type": "execute_result",
     "data": {
      "text/plain": [
       "{'license': 3,\n",
       " 'file_name': 'COCO_val2014_000000391895.jpg',\n",
       " 'coco_url': 'http://images.cocodataset.org/val2014/COCO_val2014_000000391895.jpg',\n",
       " 'height': 360,\n",
       " 'width': 640,\n",
       " 'date_captured': '2013-11-14 11:18:45',\n",
       " 'flickr_url': 'http://farm9.staticflickr.com/8186/8119368305_4e622c8349_z.jpg',\n",
       " 'id': 391895}"
      ]
     },
     "metadata": {},
     "execution_count": 4
    }
   ],
   "source": [
    "valdata['images'][0]"
   ]
  },
  {
   "cell_type": "code",
   "execution_count": 5,
   "metadata": {},
   "outputs": [
    {
     "output_type": "execute_result",
     "data": {
      "text/plain": [
       "291875"
      ]
     },
     "metadata": {},
     "execution_count": 5
    }
   ],
   "source": [
    "len(valdata['annotations']) # number of annotations in ~ 40k images"
   ]
  },
  {
   "cell_type": "code",
   "execution_count": 6,
   "metadata": {},
   "outputs": [
    {
     "output_type": "stream",
     "name": "stdout",
     "text": [
      "{'area': 2765.1486500000005,\n 'bbox': [199.84, 200.46, 77.71, 70.88],\n 'category_id': 58,\n 'id': 156,\n 'image_id': 558840,\n 'iscrowd': 0,\n 'segmentation': [[239.97,\n                   260.24,\n                   222.04,\n                   270.49,\n                   199.84,\n                   253.41,\n                   213.5,\n                   227.79,\n                   259.62,\n                   200.46,\n                   274.13,\n                   202.17,\n                   277.55,\n                   210.71,\n                   249.37,\n                   253.41,\n                   237.41,\n                   264.51,\n                   242.54,\n                   261.95,\n                   228.87,\n                   271.34]]}\n"
     ]
    }
   ],
   "source": [
    "pprint(valdata['annotations'][0]) # info available for each annotation"
   ]
  },
  {
   "cell_type": "code",
   "execution_count": 8,
   "metadata": {},
   "outputs": [],
   "source": [
    "# extract categoriesDict, superCategoriesDict from annotations json\n",
    "categories_dict, superCategories_dict = {}, {}\n",
    "for currCategoryInfo_dict in valdata['categories']: # {'id': 1, 'name': 'person', 'supercategory': 'person'}\n",
    "    categories_dict[currCategoryInfo_dict['id']] = currCategoryInfo_dict['name']\n",
    "    superCategories_dict[currCategoryInfo_dict['id']] = currCategoryInfo_dict['supercategory']"
   ]
  },
  {
   "cell_type": "code",
   "execution_count": 9,
   "metadata": {},
   "outputs": [
    {
     "output_type": "stream",
     "name": "stdout",
     "text": [
      "{1: 'person',\n 2: 'bicycle',\n 3: 'car',\n 4: 'motorcycle',\n 5: 'airplane',\n 6: 'bus',\n 7: 'train',\n 8: 'truck',\n 9: 'boat',\n 10: 'traffic light',\n 11: 'fire hydrant',\n 13: 'stop sign',\n 14: 'parking meter',\n 15: 'bench',\n 16: 'bird',\n 17: 'cat',\n 18: 'dog',\n 19: 'horse',\n 20: 'sheep',\n 21: 'cow',\n 22: 'elephant',\n 23: 'bear',\n 24: 'zebra',\n 25: 'giraffe',\n 27: 'backpack',\n 28: 'umbrella',\n 31: 'handbag',\n 32: 'tie',\n 33: 'suitcase',\n 34: 'frisbee',\n 35: 'skis',\n 36: 'snowboard',\n 37: 'sports ball',\n 38: 'kite',\n 39: 'baseball bat',\n 40: 'baseball glove',\n 41: 'skateboard',\n 42: 'surfboard',\n 43: 'tennis racket',\n 44: 'bottle',\n 46: 'wine glass',\n 47: 'cup',\n 48: 'fork',\n 49: 'knife',\n 50: 'spoon',\n 51: 'bowl',\n 52: 'banana',\n 53: 'apple',\n 54: 'sandwich',\n 55: 'orange',\n 56: 'broccoli',\n 57: 'carrot',\n 58: 'hot dog',\n 59: 'pizza',\n 60: 'donut',\n 61: 'cake',\n 62: 'chair',\n 63: 'couch',\n 64: 'potted plant',\n 65: 'bed',\n 67: 'dining table',\n 70: 'toilet',\n 72: 'tv',\n 73: 'laptop',\n 74: 'mouse',\n 75: 'remote',\n 76: 'keyboard',\n 77: 'cell phone',\n 78: 'microwave',\n 79: 'oven',\n 80: 'toaster',\n 81: 'sink',\n 82: 'refrigerator',\n 84: 'book',\n 85: 'clock',\n 86: 'vase',\n 87: 'scissors',\n 88: 'teddy bear',\n 89: 'hair drier',\n 90: 'toothbrush'}\n"
     ]
    }
   ],
   "source": [
    "pprint(categories_dict)"
   ]
  },
  {
   "cell_type": "code",
   "execution_count": 10,
   "metadata": {},
   "outputs": [
    {
     "output_type": "execute_result",
     "data": {
      "text/plain": [
       "{1: 'person',\n",
       " 2: 'vehicle',\n",
       " 3: 'vehicle',\n",
       " 4: 'vehicle',\n",
       " 5: 'vehicle',\n",
       " 6: 'vehicle',\n",
       " 7: 'vehicle',\n",
       " 8: 'vehicle',\n",
       " 9: 'vehicle',\n",
       " 10: 'outdoor',\n",
       " 11: 'outdoor',\n",
       " 13: 'outdoor',\n",
       " 14: 'outdoor',\n",
       " 15: 'outdoor',\n",
       " 16: 'animal',\n",
       " 17: 'animal',\n",
       " 18: 'animal',\n",
       " 19: 'animal',\n",
       " 20: 'animal',\n",
       " 21: 'animal',\n",
       " 22: 'animal',\n",
       " 23: 'animal',\n",
       " 24: 'animal',\n",
       " 25: 'animal',\n",
       " 27: 'accessory',\n",
       " 28: 'accessory',\n",
       " 31: 'accessory',\n",
       " 32: 'accessory',\n",
       " 33: 'accessory',\n",
       " 34: 'sports',\n",
       " 35: 'sports',\n",
       " 36: 'sports',\n",
       " 37: 'sports',\n",
       " 38: 'sports',\n",
       " 39: 'sports',\n",
       " 40: 'sports',\n",
       " 41: 'sports',\n",
       " 42: 'sports',\n",
       " 43: 'sports',\n",
       " 44: 'kitchen',\n",
       " 46: 'kitchen',\n",
       " 47: 'kitchen',\n",
       " 48: 'kitchen',\n",
       " 49: 'kitchen',\n",
       " 50: 'kitchen',\n",
       " 51: 'kitchen',\n",
       " 52: 'food',\n",
       " 53: 'food',\n",
       " 54: 'food',\n",
       " 55: 'food',\n",
       " 56: 'food',\n",
       " 57: 'food',\n",
       " 58: 'food',\n",
       " 59: 'food',\n",
       " 60: 'food',\n",
       " 61: 'food',\n",
       " 62: 'furniture',\n",
       " 63: 'furniture',\n",
       " 64: 'furniture',\n",
       " 65: 'furniture',\n",
       " 67: 'furniture',\n",
       " 70: 'furniture',\n",
       " 72: 'electronic',\n",
       " 73: 'electronic',\n",
       " 74: 'electronic',\n",
       " 75: 'electronic',\n",
       " 76: 'electronic',\n",
       " 77: 'electronic',\n",
       " 78: 'appliance',\n",
       " 79: 'appliance',\n",
       " 80: 'appliance',\n",
       " 81: 'appliance',\n",
       " 82: 'appliance',\n",
       " 84: 'indoor',\n",
       " 85: 'indoor',\n",
       " 86: 'indoor',\n",
       " 87: 'indoor',\n",
       " 88: 'indoor',\n",
       " 89: 'indoor',\n",
       " 90: 'indoor'}"
      ]
     },
     "metadata": {},
     "execution_count": 10
    }
   ],
   "source": [
    "superCategories_dict"
   ]
  },
  {
   "cell_type": "code",
   "execution_count": null,
   "metadata": {},
   "outputs": [],
   "source": []
  }
 ]
}